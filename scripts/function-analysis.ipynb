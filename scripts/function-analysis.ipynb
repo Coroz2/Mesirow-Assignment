{
 "cells": [
  {
   "cell_type": "markdown",
   "id": "283ebfe8",
   "metadata": {},
   "source": [
    "### Function 1"
   ]
  },
  {
   "cell_type": "code",
   "execution_count": 1,
   "id": "643c7038",
   "metadata": {},
   "outputs": [],
   "source": [
    "def calculate_win_rate():\n",
    "    won = 25\n",
    "    total = 100\n",
    "    if total < 0:\n",
    "        return \"bad\"\n",
    "    return f\"{won / total * 100}%\""
   ]
  },
  {
   "cell_type": "markdown",
   "id": "ef71c8c3",
   "metadata": {},
   "source": [
    "This function lacks various things to make it the best. Firstly it does not take in any parameters. This makees non-reusable. Also the condition, 'if total < 0' is not needed since it will never trigger as that value will always be 100. Lets say it could enter the if statement, there we are returning \"bad\". While if we return outside of the if statement, we are returning a percentage value in string format. This could be problemtic because, in a larger codebase, a function that can return differently formatted values could break other functions. Lastly, since we are returning a string and not a numer value, it will be more complicated to make further calculations down the line."
   ]
  },
  {
   "cell_type": "markdown",
   "id": "36feca28",
   "metadata": {},
   "source": [
    "### Function 2"
   ]
  },
  {
   "cell_type": "code",
   "execution_count": 2,
   "id": "6d71a661",
   "metadata": {},
   "outputs": [],
   "source": [
    "def calculate_win_rate(won, total):\n",
    "    if total == 0:\n",
    "        return 0.0\n",
    "    return round((won / total) * 100, 2)"
   ]
  },
  {
   "cell_type": "markdown",
   "id": "584c7e9d",
   "metadata": {},
   "source": [
    "I would consider this function to be the best of the three. You can see teh clear purpose of this function. It also takes in parameters which makes it very reusable. It also handles the edge case of diving by zero. Unlike the first it returns a consitset type and rounds to a reasonable decimal place. While this function is the best, it can be improved. I will touch on this later."
   ]
  },
  {
   "cell_type": "markdown",
   "id": "f7633542",
   "metadata": {},
   "source": [
    "### Function 3"
   ]
  },
  {
   "cell_type": "code",
   "execution_count": 3,
   "id": "0b04e4e0",
   "metadata": {},
   "outputs": [],
   "source": [
    "def calculate_win_rate(x, y):\n",
    "    if isinstance(x, str):\n",
    "        x = x + str(y)\n",
    "    elif isinstance(x, int):\n",
    "        x = x * y\n",
    "    else:\n",
    "        x = None\n",
    "    return x"
   ]
  },
  {
   "cell_type": "markdown",
   "id": "dccea44f",
   "metadata": {},
   "source": [
    "This functions has many problems. For instance it is completley unrelated to calucalting win rates, even though it is named calculate_win_rate. It then performs random operations based on type, the operations being concatenation, multiplication, and None. Lastly it uses poor variable naming as x and y are not descriptive at all."
   ]
  },
  {
   "cell_type": "markdown",
   "id": "ae10d452",
   "metadata": {},
   "source": [
    "### Improvements to Function 2\n",
    "\n",
    "To begin with we can improve this function by validating the input. We can check for negative values, since both paramters should be greater than zero. We can also verify that won <= total, because you cannot win more games than you played. And lastly we can use type checking to make sure the parameters are numbers and specofically integers since you cannot win part of a game. We can also raise an errors for these validations whtehr it be a ValueError or TypeError. Additionally we can configure the function to allow users to input how many decimal places they want to round to. This can come as an optional parameter. The naming conventions are fine as is but can be more specific if we used games_won and total_games. Lastly we can add debugging logs for values in the function so when it is called we can see the values of the parameters and the result."
   ]
  },
  {
   "cell_type": "markdown",
   "id": "1ff9cb9c",
   "metadata": {},
   "source": [
    "### Function Testing"
   ]
  },
  {
   "cell_type": "code",
   "execution_count": 4,
   "id": "0620e744",
   "metadata": {},
   "outputs": [],
   "source": [
    "import unittest\n",
    "\n",
    "def calculate_win_rate(won, total):\n",
    "    if total == 0:\n",
    "        return 0.0\n",
    "    return round((won / total) * 100, 2)\n",
    "\n",
    "\n",
    "class TestCalculateWinRate(unittest.TestCase):\n",
    "    \n",
    "    \n",
    "    def test_decimal_rounding(self):\n",
    "        # Test that results are properly rounded to 2 decimal places\n",
    "        self.assertEqual(calculate_win_rate(1, 3), 33.33)\n",
    "        self.assertEqual(calculate_win_rate(2, 3), 66.67)\n",
    "    \n",
    "    \n",
    "    def test_zero_division_handling(self):\n",
    "        # Test that division by zero returns 0.0\n",
    "        self.assertEqual(calculate_win_rate(0, 0), 0.0)\n",
    "        self.assertEqual(calculate_win_rate(5, 0), 0.0)\n",
    "    \n",
    "    def test_edge_cases(self):\n",
    "        # Test boundary and edge cases\n",
    "        # Very small percentages\n",
    "        self.assertEqual(calculate_win_rate(1, 1000), 0.1)\n",
    "        self.assertEqual(calculate_win_rate(1, 10000), 0.01)\n",
    "        \n",
    "        # Very close to 100%\n",
    "        self.assertEqual(calculate_win_rate(999, 1000), 99.9)\n",
    "        self.assertEqual(calculate_win_rate(9999, 10000), 99.99)\n",
    "        \n",
    "    \n",
    "    def test_float_inputs(self):\n",
    "        self.assertEqual(calculate_win_rate(25.5, 100), 25.5)\n",
    "        self.assertEqual(calculate_win_rate(33.3, 100), 33.3)\n",
    "        self.assertEqual(calculate_win_rate(50.75, 100), 50.75)\n",
    "        self.assertEqual(calculate_win_rate(1.5, 3.0), 50.0)\n",
    "    \n",
    "    def test_negative_values(self):\n",
    "        # Test behavior with negative inputs\n",
    "        self.assertEqual(calculate_win_rate(-25, 100), -25.0)\n",
    "        self.assertEqual(calculate_win_rate(25, -100), -25.0)\n",
    "        self.assertEqual(calculate_win_rate(-25, -100), 25.0)\n",
    "    \n",
    "    def test_won_greater_than_total(self):\n",
    "        # Test when won exceeds total\n",
    "        self.assertEqual(calculate_win_rate(150, 100), 150.0)\n",
    "        self.assertEqual(calculate_win_rate(200, 100), 200.0)\n",
    "    \n",
    "    def test_large_numbers(self):\n",
    "        # Test with large numbers\n",
    "        self.assertEqual(calculate_win_rate(1000000, 2000000), 50.0)\n",
    "        self.assertEqual(calculate_win_rate(333333, 1000000), 33.33)\n",
    "        self.assertEqual(calculate_win_rate(999999, 1000000), 100.0)\n",
    "    \n",
    "\n",
    "\n",
    "\n",
    "    # Run all tests\n",
    "    "
   ]
  },
  {
   "cell_type": "code",
   "execution_count": 5,
   "id": "e2130d8d",
   "metadata": {},
   "outputs": [
    {
     "name": "stderr",
     "output_type": "stream",
     "text": [
      "test_decimal_rounding (__main__.TestCalculateWinRate.test_decimal_rounding) ... ok\n",
      "test_edge_cases (__main__.TestCalculateWinRate.test_edge_cases) ... ok\n",
      "test_float_inputs (__main__.TestCalculateWinRate.test_float_inputs) ... ok\n",
      "test_large_numbers (__main__.TestCalculateWinRate.test_large_numbers) ... ok\n",
      "test_negative_values (__main__.TestCalculateWinRate.test_negative_values) ... ok\n",
      "test_won_greater_than_total (__main__.TestCalculateWinRate.test_won_greater_than_total) ... ok\n",
      "test_zero_division_handling (__main__.TestCalculateWinRate.test_zero_division_handling) ... ok\n",
      "\n",
      "----------------------------------------------------------------------\n",
      "Ran 7 tests in 0.009s\n",
      "\n",
      "OK\n"
     ]
    },
    {
     "name": "stdout",
     "output_type": "stream",
     "text": [
      "\n",
      "==================================================\n",
      "Additional manual test scenarios:\n",
      "==================================================\n",
      "Zero games played: calculate_win_rate(0, 0) = 0.0\n",
      "No wins: calculate_win_rate(0, 10) = 0.0\n",
      "Perfect record: calculate_win_rate(10, 10) = 100.0\n",
      "One third: calculate_win_rate(1, 3) = 33.33\n",
      "70% win rate: calculate_win_rate(7, 10) = 70.0\n",
      "Won > Total (illogical): calculate_win_rate(150, 100) = 150.0\n",
      "Negative wins: calculate_win_rate(-5, 10) = -50.0\n"
     ]
    }
   ],
   "source": [
    "unittest.main(argv=[''], exit=False, verbosity=2)\n",
    "    \n",
    "print(\"\\n\" + \"=\"*50)\n",
    "print(\"Additional manual test scenarios:\")\n",
    "print(\"=\"*50)\n",
    "\n",
    "test_cases = [\n",
    "    (0, 0, \"Zero games played\"),\n",
    "    (0, 10, \"No wins\"),\n",
    "    (10, 10, \"Perfect record\"),\n",
    "    (1, 3, \"One third\"),\n",
    "    (7, 10, \"70% win rate\"),\n",
    "    (150, 100, \"Won > Total (illogical)\"),\n",
    "    (-5, 10, \"Negative wins\"),\n",
    "]\n",
    "\n",
    "for won, total, description in test_cases:\n",
    "    result = calculate_win_rate(won, total)\n",
    "    print(f\"{description}: calculate_win_rate({won}, {total}) = {result}\")"
   ]
  }
 ],
 "metadata": {
  "kernelspec": {
   "display_name": "Python 3",
   "language": "python",
   "name": "python3"
  },
  "language_info": {
   "codemirror_mode": {
    "name": "ipython",
    "version": 3
   },
   "file_extension": ".py",
   "mimetype": "text/x-python",
   "name": "python",
   "nbconvert_exporter": "python",
   "pygments_lexer": "ipython3",
   "version": "3.12.0"
  }
 },
 "nbformat": 4,
 "nbformat_minor": 5
}
