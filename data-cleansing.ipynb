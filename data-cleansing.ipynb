{
 "cells": [
  {
   "cell_type": "code",
   "execution_count": 2,
   "metadata": {},
   "outputs": [],
   "source": [
    "import pandas as pd\n",
    "import numpy as np\n",
    "from typing import Dict, List"
   ]
  },
  {
   "cell_type": "code",
   "execution_count": null,
   "metadata": {},
   "outputs": [],
   "source": [
    "class ColumnPrioritizer:\n",
    "    def __init__(self, df: pd.DataFrame):\n",
    "        self.df = df.copy()\n",
    "        \n",
    "        # Hard-coded duplicate column groups based on the Salesforce dataset\n",
    "        self.duplicate_groups = {\n",
    "            'account_name': ['Account Name', 'account_name', 'AccountName'],\n",
    "            'contact_email': ['Contact Email', 'contact_email'],\n",
    "            'created_date': ['Created Date', 'created_date'],\n",
    "            'lead_source': ['Lead Source', 'lead_source'],\n",
    "            'opportunity_amount': ['Opportunity Amount', 'opportunity_amount'],\n",
    "            'is_active': ['Is Active', 'is_active'],\n",
    "            'sfdc_id': ['SFDC ID', 'sfdc_id'],\n",
    "            'annual_revenue': ['Annual Revenue', 'annual_revenue']\n",
    "        }\n",
    "    \n",
    "    def completeness_score(self, column_name: str) -> float:\n",
    "        ## Calculate completeness score for a column (0-1).\n",
    "        if column_name not in self.df.columns:\n",
    "            return 0.0\n",
    "        return self.df[column_name].notna().sum() / len(self.df)\n",
    "    \n",
    "    def quality_score(self, column_name: str) -> float:\n",
    "        ## Calculate quality score for a column (0-1).\n",
    "        if column_name not in self.df.columns:\n",
    "            return 0.0\n",
    "        \n",
    "        series = self.df[column_name].dropna()\n",
    "        if len(series) == 0:\n",
    "            return 0.0\n",
    "        \n",
    "        # Check for error indicators\n",
    "        error_indicators = ['not_a_date', 'noemail', 'invalid@', 'BAD_ID', 'N/A', 'NaT']\n",
    "        error_count = sum(1 for value in series.astype(str) \n",
    "                         if any(indicator in str(value) for indicator in error_indicators))\n",
    "        \n",
    "        return max(0.0, 1.0 - (error_count / len(series)))\n",
    "    "
   ]
  }
 ],
 "metadata": {
  "kernelspec": {
   "display_name": "base",
   "language": "python",
   "name": "python3"
  },
  "language_info": {
   "codemirror_mode": {
    "name": "ipython",
    "version": 3
   },
   "file_extension": ".py",
   "mimetype": "text/x-python",
   "name": "python",
   "nbconvert_exporter": "python",
   "pygments_lexer": "ipython3",
   "version": "3.12.2"
  }
 },
 "nbformat": 4,
 "nbformat_minor": 2
}
