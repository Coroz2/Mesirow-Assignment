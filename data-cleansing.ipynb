{
 "cells": [
  {
   "cell_type": "code",
   "execution_count": 17,
   "metadata": {},
   "outputs": [],
   "source": [
    "import pandas as pd\n",
    "import numpy as np\n",
    "from typing import Dict, List\n"
   ]
  },
  {
   "cell_type": "code",
   "execution_count": null,
   "metadata": {},
   "outputs": [],
   "source": [
    "class ColumnPrioritizer:\n",
    "    def __init__(self, df: pd.DataFrame):\n",
    "        self.df = df.copy()\n",
    "        \n",
    "        # Hard-coded duplicate column groups based on the Salesforce dataset\n",
    "        self.duplicate_groups = {\n",
    "            'account_name': ['Account Name', 'account_name', 'AccountName'],\n",
    "            'contact_email': ['Contact Email', 'contact_email'],\n",
    "            'created_date': ['Created Date', 'created_date'],\n",
    "            'lead_source': ['Lead Source', 'lead_source'],\n",
    "            'opportunity_amount': ['Opportunity Amount', 'opportunity_amount'],\n",
    "            'is_active': ['Is Active', 'is_active'],\n",
    "            'sfdc_id': ['SFDC ID', 'sfdc_id'],\n",
    "            'annual_revenue': ['Annual Revenue', 'annual_revenue']\n",
    "        }\n",
    "    \n",
    "    def completeness_score(self, column_name: str) -> float:\n",
    "        # Calculate completeness score for a column (0-1).\n",
    "        if column_name not in self.df.columns:\n",
    "            return 0.0\n",
    "        return self.df[column_name].notna().sum() / len(self.df)\n",
    "    \n",
    "    def is_valid_email(self, email: str) -> bool:\n",
    "        # Check if email is one of the valid emails: help@globex.com or contact@acme.com\n",
    "        if pd.isna(email) or email is None:\n",
    "            return False\n",
    "        return email in ['help@globex.com', 'contact@acme.com']\n",
    "    \n",
    "    def is_placeholder_email(self, email: str) -> bool:\n",
    "        # Check if email is a placeholder (empty, None, or obvious placeholder)\"\"\"\n",
    "        if pd.isna(email) or email is None or email == '':\n",
    "            return True\n",
    "        # Common placeholder patterns\n",
    "        placeholders = ['noemail', 'invalid@', 'user@', 'missing.com', 'placeholder']\n",
    "        return any(placeholder in str(email).lower() for placeholder in placeholders)\n",
    "    \n",
    "    \n",
    "    "
   ]
  },
  {
   "cell_type": "code",
   "execution_count": 21,
   "metadata": {},
   "outputs": [
    {
     "name": "stdout",
     "output_type": "stream",
     "text": [
      "Account Name Columns Analysis:\n",
      "\n",
      "Account Name:\n",
      "  Completeness: 0.596\n",
      "\n",
      "account_name:\n",
      "  Completeness: 0.822\n",
      "\n",
      "AccountName:\n",
      "  Completeness: 0.702\n",
      "Contact Email Columns Analysis:\n",
      "\n",
      "Contact Email:\n",
      "  Completeness: 0.754\n",
      "\n",
      "contact_email:\n",
      "  Completeness: 0.764\n"
     ]
    }
   ],
   "source": [
    "df = pd.read_csv('data/DirtySalesforceData.csv')\n",
    "prioritizer = ColumnPrioritizer(df)\n",
    "\n",
    "account_columns = ['Account Name', 'account_name', 'AccountName']\n",
    "print(\"Account Name Columns Analysis:\")\n",
    "for col in account_columns:\n",
    "    if col in df.columns:\n",
    "        print(f\"\\n{col}:\")\n",
    "        print(f\"  Completeness: {prioritizer.completeness_score(col):.3f}\")\n",
    "\n",
    "contact_columns = ['Contact Email', 'contact_email']\n",
    "print(\"Contact Email Columns Analysis:\")\n",
    "for col in contact_columns:\n",
    "    if col in df.columns:\n",
    "        print(f\"\\n{col}:\")\n",
    "        print(f\"  Completeness: {prioritizer.completeness_score(col):.3f}\")\n"
   ]
  },
  {
   "cell_type": "code",
   "execution_count": null,
   "metadata": {},
   "outputs": [
    {
     "name": "stdout",
     "output_type": "stream",
     "text": [
      "Testing is_valid_email:\n",
      "help@globex.com: True (should be True)\n",
      "contact@acme.com: True (should be True)\n",
      "random@email.com: False (should be False)\n",
      "None: False (should be False)\n",
      "empty string: False (should be False)\n",
      "HELP@GLOBEX.COM: False (should be False - case sensitive)\n",
      "\n",
      "Testing is_placeholder_email:\n",
      "None: True (should be True)\n",
      "empty string: True (should be True)\n",
      "noemail: True (should be True)\n",
      "invalid@: True (should be True)\n",
      "user@: True (should be True)\n",
      "missing.com: True (should be True)\n",
      "NOEMAIL: True (should be True - case insensitive)\n",
      "help@globex.com: False (should be False)\n",
      "real@email.com: False (should be False)\n",
      "\n"
     ]
    }
   ],
   "source": [
    "class Tester:\n",
    "    def is_valid_email(self, email):\n",
    "        if pd.isna(email) or email is None:\n",
    "            return False\n",
    "        return email in ['help@globex.com', 'contact@acme.com']\n",
    "    \n",
    "    def is_placeholder_email(self, email):\n",
    "        if pd.isna(email) or email is None or email == '':\n",
    "            return True\n",
    "        placeholders = ['noemail', 'invalid@', 'user@', 'missing.com', 'placeholder']\n",
    "        return any(placeholder in str(email).lower() for placeholder in placeholders)\n",
    "    \n",
    "\n",
    "t = Tester()\n",
    "\n",
    "# Test is_valid_email\n",
    "print(\"Testing is_valid_email:\")\n",
    "print(f\"help@globex.com: {t.is_valid_email('help@globex.com')} (should be True)\")\n",
    "print(f\"contact@acme.com: {t.is_valid_email('contact@acme.com')} (should be True)\")\n",
    "print(f\"random@email.com: {t.is_valid_email('random@email.com')} (should be False)\")\n",
    "print(f\"None: {t.is_valid_email(None)} (should be False)\")\n",
    "print(f\"empty string: {t.is_valid_email('')} (should be False)\")\n",
    "print(f\"HELP@GLOBEX.COM: {t.is_valid_email('HELP@GLOBEX.COM')} (should be False - case sensitive)\")\n",
    "print()\n",
    "\n",
    "# Test is_placeholder_email\n",
    "print(\"Testing is_placeholder_email:\")\n",
    "print(f\"None: {t.is_placeholder_email(None)} (should be True)\")\n",
    "print(f\"empty string: {t.is_placeholder_email('')} (should be True)\")\n",
    "print(f\"noemail: {t.is_placeholder_email('noemail')} (should be True)\")\n",
    "print(f\"invalid@: {t.is_placeholder_email('invalid@')} (should be True)\")\n",
    "print(f\"user@: {t.is_placeholder_email('user@')} (should be True)\")\n",
    "print(f\"missing.com: {t.is_placeholder_email('missing.com')} (should be True)\")\n",
    "print(f\"NOEMAIL: {t.is_placeholder_email('NOEMAIL')} (should be True - case insensitive)\")\n",
    "print(f\"help@globex.com: {t.is_placeholder_email('help@globex.com')} (should be False)\")\n",
    "print(f\"real@email.com: {t.is_placeholder_email('real@email.com')} (should be False)\")\n",
    "print()"
   ]
  },
  {
   "cell_type": "code",
   "execution_count": null,
   "metadata": {},
   "outputs": [],
   "source": []
  }
 ],
 "metadata": {
  "kernelspec": {
   "display_name": "base",
   "language": "python",
   "name": "python3"
  },
  "language_info": {
   "codemirror_mode": {
    "name": "ipython",
    "version": 3
   },
   "file_extension": ".py",
   "mimetype": "text/x-python",
   "name": "python",
   "nbconvert_exporter": "python",
   "pygments_lexer": "ipython3",
   "version": "3.12.2"
  }
 },
 "nbformat": 4,
 "nbformat_minor": 2
}
