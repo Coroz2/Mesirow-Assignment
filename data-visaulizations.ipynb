{
 "cells": [
  {
   "cell_type": "code",
   "execution_count": null,
   "id": "b54a534c",
   "metadata": {},
   "outputs": [
    {
     "name": "stdout",
     "output_type": "stream",
     "text": [
      "      lead_source  total_leads  with_opportunity  without_opportunity  \\\n",
      "2  Email Campaign          117                99                   18   \n",
      "1    Social Media          100                83                   17   \n",
      "0      Trade Show           98                89                    9   \n",
      "4        Referral           84                76                    8   \n",
      "5   Phone Inquiry           22                18                    4   \n",
      "3             Web           21                19                    2   \n",
      "6         Partner           18                15                    3   \n",
      "\n",
      "   conversion_rate  avg_deal_value  \n",
      "2        84.615385    23282.828283  \n",
      "1        83.000000    20626.506024  \n",
      "0        90.816327    21449.438202  \n",
      "4        90.476190    20013.157895  \n",
      "5        81.818182    23222.222222  \n",
      "3        90.476190    25473.684211  \n",
      "6        83.333333    30466.666667  \n"
     ]
    },
    {
     "data": {
      "image/png": "[encoded data removed]",
      "text/plain": [
       "<Figure size 1400x500 with 1 Axes>"
      ]
     },
     "metadata": {},
     "output_type": "display_data"
    }
   ],
   "source": [
    "import pandas as pd\n",
    "import numpy as np\n",
    "import matplotlib.pyplot as plt\n",
    "import seaborn as sns\n",
    "\n",
    "df = pd.read_csv('CleanSalesforceData.csv')\n",
    "\n",
    "lead_source_metrics = []\n",
    "\n",
    "lead_sources = df[df['lead_source'].notna()]['lead_source'].unique()\n",
    "\n",
    "for source in lead_sources:\n",
    "    source_data = df[df['lead_source'] == source]\n",
    "    \n",
    "    total_leads = len(source_data)\n",
    "    \n",
    "    # Records with opportunity_amount\n",
    "    with_opportunity = source_data[source_data['opportunity_amount'].notna()]\n",
    "    opportunity_count = len(with_opportunity)\n",
    "    \n",
    "    no_opportunity = total_leads - opportunity_count\n",
    "    \n",
    "    # Conversion rate\n",
    "    conversion_rate = (opportunity_count / total_leads * 100) if total_leads > 0 else 0\n",
    "    \n",
    "    # Average deal value\n",
    "    avg_deal_value = with_opportunity['opportunity_amount'].mean() if len(with_opportunity) > 0 else 0\n",
    "    \n",
    "    lead_source_metrics.append({\n",
    "        'lead_source': source,\n",
    "        'total_leads': total_leads,\n",
    "        'with_opportunity': opportunity_count,\n",
    "        'without_opportunity': no_opportunity,\n",
    "        'conversion_rate': conversion_rate,\n",
    "        'avg_deal_value': avg_deal_value\n",
    "    })\n",
    "\n",
    "# New data frame sorted by total leads\n",
    "metrics_df = pd.DataFrame(lead_source_metrics)\n",
    "metrics_df = metrics_df.sort_values('total_leads', ascending=False)\n",
    "print(metrics_df)\n",
    "\n",
    "# Create the visualization with two subplots\n",
    "fig, ax1 = plt.subplots(1, 1, figsize=(14, 5))\n",
    "\n",
    "#Stacked bar chart\n",
    "x = np.arange(len(metrics_df))\n",
    "width = 0.6\n",
    "\n",
    "bars1 = ax1.bar(x, metrics_df['with_opportunity'], width, \n",
    "                label='With Opportunity', color='#2E86AB', edgecolor='black', linewidth=1)\n",
    "bars2 = ax1.bar(x, metrics_df['without_opportunity'], width, \n",
    "                bottom=metrics_df['with_opportunity'],\n",
    "                label='Without Opportunity', color='#A8DADC', edgecolor='black', linewidth=1)"
   ]
  }
 ],
 "metadata": {
  "kernelspec": {
   "display_name": "base",
   "language": "python",
   "name": "python3"
  },
  "language_info": {
   "codemirror_mode": {
    "name": "ipython",
    "version": 3
   },
   "file_extension": ".py",
   "mimetype": "text/x-python",
   "name": "python",
   "nbconvert_exporter": "python",
   "pygments_lexer": "ipython3",
   "version": "3.12.2"
  }
 },
 "nbformat": 4,
 "nbformat_minor": 5
}
